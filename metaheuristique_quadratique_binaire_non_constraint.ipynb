{
 "cells": [
  {
   "cell_type": "markdown",
   "metadata": {},
   "source": [
    "# Métaheuristique pour le problème quadratique binaire non constraint"
   ]
  },
  {
   "cell_type": "code",
   "execution_count": 2,
   "metadata": {},
   "outputs": [],
   "source": [
    "import random as r"
   ]
  },
  {
   "cell_type": "code",
   "execution_count": 3,
   "metadata": {},
   "outputs": [
    {
     "name": "stdout",
     "output_type": "stream",
     "text": [
      "[0\t 77\t 11\t 93]\n",
      "[77\t 0\t -69\t -42]\n",
      "[11\t -69\t 0\t 65]\n",
      "[93\t -42\t 65\t 0]\n"
     ]
    }
   ],
   "source": [
    "def create_random_instance(n):\n",
    "    d = [ [r.randint(-100, 100) for _ in range(n)] for _ in range(n)]\n",
    "\n",
    "    for i in range (n):\n",
    "        for j in range (i+1, n):\n",
    "            d[j][i] = d[i][j]\n",
    "        d[i][i] = 0\n",
    "    return d\n",
    "\n",
    "def afficher_instance(d):\n",
    "    n = len(d)\n",
    "    for i in range(n):\n",
    "        print(str(d[i]).replace(\",\", \"\\t\"))\n",
    "\n",
    "ins = create_random_instance(4)\n",
    "afficher_instance(ins)"
   ]
  },
  {
   "cell_type": "code",
   "execution_count": 4,
   "metadata": {},
   "outputs": [
    {
     "name": "stdout",
     "output_type": "stream",
     "text": [
      "[0, 1, 1, 0]\n"
     ]
    }
   ],
   "source": [
    "def random_solution(ins):\n",
    "    return [ r.randint(0, 1) for _ in range(len(ins))]\n",
    "\n",
    "sol = random_solution(ins)\n",
    "print(sol)"
   ]
  },
  {
   "cell_type": "code",
   "execution_count": 5,
   "metadata": {},
   "outputs": [
    {
     "name": "stdout",
     "output_type": "stream",
     "text": [
      "48\n"
     ]
    }
   ],
   "source": [
    "def cost_sol(ins, sol):\n",
    "    n = len(sol)\n",
    "    total = 0\n",
    "    for i in range(n):\n",
    "        for j in range(n):\n",
    "            total += ins[i][j * sol[i]] * sol[j]\n",
    "    return total\n",
    "\n",
    "print(cost_sol(ins, sol))"
   ]
  },
  {
   "cell_type": "code",
   "execution_count": 10,
   "metadata": {},
   "outputs": [
    {
     "name": "stdout",
     "output_type": "stream",
     "text": [
      "569\n"
     ]
    }
   ],
   "source": [
    "def descente(ins, initial_sol, find_best_neighbor):\n",
    "    s = initial_sol.copy()\n",
    "    hasFoundBetterSol = True\n",
    "    while hasFoundBetterSol:\n",
    "        hasFoundBetterSol = find_best_neighbor(ins, s)\n",
    "    return s\n",
    "\n",
    "def find_best_neighbor(ins, s):\n",
    "    best = s\n",
    "    best_cout = cost_sol(ins, best)\n",
    "    i = 0\n",
    "    while i < 2*len(s):\n",
    "        for j in range(len(s)):\n",
    "            if best[j] == 0 :\n",
    "                best[j] = 1\n",
    "            else :\n",
    "                best[j] = 0\n",
    "            cout_tmp = cost_sol(ins, best)\n",
    "            if cout_tmp > best_cout :\n",
    "                best_cout = cout_tmp\n",
    "        i+=1\n",
    "    return(best_cout)\n",
    "\n",
    "a = find_best_neighbor(ins, sol)\n",
    "print(a)"
   ]
  },
  {
   "cell_type": "markdown",
   "metadata": {},
   "source": [
    "# Recuit simulé"
   ]
  },
  {
   "cell_type": "code",
   "execution_count": 11,
   "metadata": {},
   "outputs": [],
   "source": [
    "import random as r"
   ]
  },
  {
   "cell_type": "code",
   "execution_count": 12,
   "metadata": {},
   "outputs": [
    {
     "name": "stdout",
     "output_type": "stream",
     "text": [
      "[0\t -36\t -95\t -62]\n",
      "[-36\t 0\t -34\t 16]\n",
      "[-95\t -34\t 0\t 79]\n",
      "[-62\t 16\t 79\t 0]\n"
     ]
    }
   ],
   "source": [
    "def create_random_instance(n):\n",
    "    d = [ [r.randint(-100, 100) for _ in range(n)] for _ in range(n)]\n",
    "\n",
    "    for i in range (n):\n",
    "        for j in range (i+1, n):\n",
    "            d[j][i] = d[i][j]\n",
    "        d[i][i] = 0\n",
    "    return d\n",
    "\n",
    "def afficher_instance(d):\n",
    "    n = len(d)\n",
    "    for i in range(n):\n",
    "        print(str(d[i]).replace(\",\", \"\\t\"))\n",
    "\n",
    "ins = create_random_instance(4)\n",
    "afficher_instance(ins)"
   ]
  },
  {
   "cell_type": "code",
   "execution_count": 13,
   "metadata": {},
   "outputs": [
    {
     "name": "stdout",
     "output_type": "stream",
     "text": [
      "[1, 1, 1, 0]\n"
     ]
    }
   ],
   "source": [
    "def random_solution(ins):\n",
    "    return [ r.randint(0, 1) for _ in range(len(ins))]\n",
    "\n",
    "sol = random_solution(ins)\n",
    "print(sol)"
   ]
  },
  {
   "cell_type": "code",
   "execution_count": 14,
   "metadata": {},
   "outputs": [
    {
     "name": "stdout",
     "output_type": "stream",
     "text": [
      "-516\n"
     ]
    }
   ],
   "source": [
    "def cost_sol(ins, sol):\n",
    "    n = len(sol)\n",
    "    total = 0\n",
    "    for i in range(n):\n",
    "        for j in range(n):\n",
    "            total += ins[i][j * sol[i]] * sol[j]\n",
    "    return total\n",
    "\n",
    "print(cost_sol(ins, sol))"
   ]
  },
  {
   "cell_type": "code",
   "execution_count": 15,
   "metadata": {},
   "outputs": [],
   "source": [
    "def temperature(old_cost_sol, cost_sol):\n",
    "    if len(old_cost_sol) > 2 :\n",
    "        moyenne = sum(old_cost_sol) / len(old_cost_sol)\n",
    "        if cost_sol < moyenne :\n",
    "                return old_cost_sol\n",
    "    old_cost_sol.append(cost_sol)\n",
    "    return old_cost_sol\n"
   ]
  },
  {
   "cell_type": "code",
   "execution_count": null,
   "metadata": {},
   "outputs": [],
   "source": []
  }
 ],
 "metadata": {
  "kernelspec": {
   "display_name": "Python 3",
   "language": "python",
   "name": "python3"
  },
  "language_info": {
   "codemirror_mode": {
    "name": "ipython",
    "version": 3
   },
   "file_extension": ".py",
   "mimetype": "text/x-python",
   "name": "python",
   "nbconvert_exporter": "python",
   "pygments_lexer": "ipython3",
   "version": "3.11.6"
  }
 },
 "nbformat": 4,
 "nbformat_minor": 2
}
